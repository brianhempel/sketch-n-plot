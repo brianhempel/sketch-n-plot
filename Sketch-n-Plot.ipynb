{
 "cells": [
  {
   "cell_type": "code",
   "execution_count": 1,
   "metadata": {},
   "outputs": [
    {
     "data": {
      "text/plain": [
       "'module://matplotlib_inline.backend_inline'"
      ]
     },
     "execution_count": 1,
     "metadata": {},
     "output_type": "execute_result"
    }
   ],
   "source": [
    "import time\n",
    "import numpy as np\n",
    "import matplotlib as mpl\n",
    "import matplotlib.pyplot as plt\n",
    "\n",
    "# mpl.use(\"nbAgg\") # Have to first change to a different backend in order to get the classes to reload on the next line.\n",
    "# mpl.use(\"module://ipympl.backend_nbagg\")\n",
    "# mpl.use(\"module://\" + __name__)\n",
    "\n",
    "mpl.get_backend()"
   ]
  },
  {
   "cell_type": "code",
   "execution_count": 2,
   "metadata": {},
   "outputs": [],
   "source": [
    "# from typing import TypeVar\n",
    "\n",
    "# def testFn(a : TypeVar[T], b) -> T:\n",
    "#     return a"
   ]
  },
  {
   "cell_type": "code",
   "execution_count": 3,
   "metadata": {},
   "outputs": [],
   "source": [
    "# Target: Bar color demo\n",
    "# https://matplotlib.org/stable/gallery/lines_bars_and_markers/bar_colors.html#sphx-glr-gallery-lines-bars-and-markers-bar-colors-py\n",
    "\n",
    "# import matplotlib.pyplot as plt\n",
    "\n",
    "# fig, ax = plt.subplots()\n",
    "\n",
    "# fruits = ['apple', 'blueberry', 'cherry', 'orange']\n",
    "# counts = [40, 100, 30, 55]\n",
    "# bar_labels = ['red', 'blue', '_red', 'orange']\n",
    "# bar_colors = ['tab:red', 'tab:blue', 'tab:red', 'tab:orange']\n",
    "\n",
    "# ax.bar(fruits, counts, label=bar_labels, color=bar_colors)\n",
    "\n",
    "# ax.set_ylabel('fruit supply')\n",
    "# ax.set_title('Fruit supply by kind and color')\n",
    "# ax.legend(title='Fruit color')\n",
    "\n",
    "# plt.show()"
   ]
  },
  {
   "cell_type": "code",
   "execution_count": 19,
   "metadata": {},
   "outputs": [],
   "source": [
    "execfile(\"snp.py\")\n",
    "# do_inference(open(\"current_notebook.py\").read()).graph\n",
    "# fig, ax = plt.subplots()\n",
    "# text = ax.set_title(\"My Plot\", loc=\"center\")\n",
    "# xs = np.linspace(0, 2 * np.pi, 20)\n",
    "# ys = np.sin(xs)\n",
    "# lines = ax.plot(ys)\n",
    "# # ax.yaxis.set_label_text(\"Units\")\n",
    "\n",
    "# start = time.monotonic_ns()\n",
    "# tag_with_paths_deep(fig, \"fig\", mypy_result.graph)\n",
    "# tag_with_paths_deep(ax, \"ax\", mypy_result.graph)\n",
    "# print((time.monotonic_ns() - start) / 1e9)"
   ]
  },
  {
   "cell_type": "code",
   "execution_count": 21,
   "metadata": {
    "scrolled": false
   },
   "outputs": [
    {
     "name": "stdout",
     "output_type": "stream",
     "text": [
      "current_notebook.py:34: error: Name \"execfile\" is not defined  [name-defined]\n",
      "current_notebook.py:65: error: Name \"SNP\" is not defined  [name-defined]\n",
      "current_notebook.py:65: error: Name \"cell_lineno\" is not defined  [name-defined]\n",
      "current_notebook.py:65: error: Name \"provenance_is_off_by_n_lines\" is not defined  [name-defined]\n",
      "current_notebook.py:65: error: Name \"notebook_code_through_cell\" is not defined  [name-defined]\n",
      "current_notebook.py:65: error: Name \"re\" is not defined  [name-defined]\n",
      "current_notebook.py:65: error: Name \"cell_code\" is not defined  [name-defined]\n",
      "{'fig': matplotlib.figure.Figure, 'ax': matplotlib.axes._axes.Axes, 'fruits': builtins.list[builtins.str], 'counts': builtins.list[builtins.int]}\n"
     ]
    },
    {
     "ename": "ValueError",
     "evalue": "not enough values to unpack (expected 3, got 2)",
     "output_type": "error",
     "traceback": [
      "\u001b[0;31m---------------------------------------------------------------------------\u001b[0m",
      "\u001b[0;31mValueError\u001b[0m                                Traceback (most recent call last)",
      "File \u001b[0;32m/Library/Frameworks/Python.framework/Versions/3.10/lib/python3.10/site-packages/IPython/core/formatters.py:343\u001b[0m, in \u001b[0;36mBaseFormatter.__call__\u001b[0;34m(self, obj)\u001b[0m\n\u001b[1;32m    341\u001b[0m     method \u001b[38;5;241m=\u001b[39m get_real_method(obj, \u001b[38;5;28mself\u001b[39m\u001b[38;5;241m.\u001b[39mprint_method)\n\u001b[1;32m    342\u001b[0m     \u001b[38;5;28;01mif\u001b[39;00m method \u001b[38;5;129;01mis\u001b[39;00m \u001b[38;5;129;01mnot\u001b[39;00m \u001b[38;5;28;01mNone\u001b[39;00m:\n\u001b[0;32m--> 343\u001b[0m         \u001b[38;5;28;01mreturn\u001b[39;00m \u001b[43mmethod\u001b[49m\u001b[43m(\u001b[49m\u001b[43m)\u001b[49m\n\u001b[1;32m    344\u001b[0m     \u001b[38;5;28;01mreturn\u001b[39;00m \u001b[38;5;28;01mNone\u001b[39;00m\n\u001b[1;32m    345\u001b[0m \u001b[38;5;28;01melse\u001b[39;00m:\n",
      "File \u001b[0;32m~/Documents/ucsd/bimodal_plotting/sketch-n-plot/snp.py:605\u001b[0m, in \u001b[0;36mSNP._repr_html_\u001b[0;34m(self)\u001b[0m\n\u001b[1;32m    591\u001b[0m sidebar_stuff \u001b[38;5;241m=\u001b[39m []\n\u001b[1;32m    593\u001b[0m \u001b[38;5;66;03m# for obj_id, name in self.object_names.items():\u001b[39;00m\n\u001b[1;32m    594\u001b[0m \n\u001b[1;32m    595\u001b[0m \u001b[38;5;66;03m#    sidebar_stuff.append({\u001b[39;00m\n\u001b[1;32m    596\u001b[0m \u001b[38;5;66;03m#       \"name\": name,\u001b[39;00m\n\u001b[1;32m    597\u001b[0m \u001b[38;5;66;03m#       \"object_id\": obj_id,\u001b[39;00m\n\u001b[1;32m    598\u001b[0m \u001b[38;5;66;03m#    })\u001b[39;00m\n\u001b[1;32m    600\u001b[0m \u001b[38;5;28;01mreturn\u001b[39;00m \u001b[38;5;124mf\u001b[39m\u001b[38;5;124m\"\"\"\u001b[39m\n\u001b[1;32m    601\u001b[0m \u001b[38;5;124m    <div class=\u001b[39m\u001b[38;5;124m\"\u001b[39m\u001b[38;5;124msnp_outer\u001b[39m\u001b[38;5;124m\"\u001b[39m\u001b[38;5;124m style=\u001b[39m\u001b[38;5;124m\"\u001b[39m\u001b[38;5;124mposition:relative;\u001b[39m\u001b[38;5;124m\"\u001b[39m\u001b[38;5;124m>\u001b[39m\n\u001b[1;32m    602\u001b[0m \u001b[38;5;124m    <script>\u001b[39m\u001b[38;5;132;01m{\u001b[39;00mpathlib\u001b[38;5;241m.\u001b[39mPath(\u001b[38;5;124m\"\u001b[39m\u001b[38;5;124msnp.js\u001b[39m\u001b[38;5;124m\"\u001b[39m)\u001b[38;5;241m.\u001b[39mread_text()\u001b[38;5;132;01m}\u001b[39;00m\u001b[38;5;124m</script>\u001b[39m\n\u001b[1;32m    603\u001b[0m \u001b[38;5;124m    <style>\u001b[39m\u001b[38;5;132;01m{\u001b[39;00mpathlib\u001b[38;5;241m.\u001b[39mPath(\u001b[38;5;124m\"\u001b[39m\u001b[38;5;124msnp.css\u001b[39m\u001b[38;5;124m\"\u001b[39m)\u001b[38;5;241m.\u001b[39mread_text()\u001b[38;5;132;01m}\u001b[39;00m\u001b[38;5;124m</style>\u001b[39m\n\u001b[1;32m    604\u001b[0m \u001b[38;5;124m    <img style=\u001b[39m\u001b[38;5;124m\"\u001b[39m\u001b[38;5;124mmargin: 0; border: solid 1px black;\u001b[39m\u001b[38;5;124m\"\u001b[39m\u001b[38;5;124m src=\u001b[39m\u001b[38;5;124m'\u001b[39m\u001b[38;5;132;01m{\u001b[39;00mdata_url\u001b[38;5;132;01m}\u001b[39;00m\u001b[38;5;124m'\u001b[39m\u001b[38;5;124m> <!-- the plot -->\u001b[39m\n\u001b[0;32m--> 605\u001b[0m \u001b[38;5;124m    \u001b[39m\u001b[38;5;132;01m{\u001b[39;00m\u001b[38;5;28mself\u001b[39m\u001b[38;5;241m.\u001b[39m_repr_svg_()\u001b[38;5;132;01m}\u001b[39;00m\u001b[38;5;124m <!-- hover regions -->\u001b[39m\n\u001b[1;32m    606\u001b[0m \u001b[38;5;124m    <div class=\u001b[39m\u001b[38;5;124m\"\u001b[39m\u001b[38;5;124mstdout_stderr\u001b[39m\u001b[38;5;124m\"\u001b[39m\u001b[38;5;124m></div>\u001b[39m\n\u001b[1;32m    607\u001b[0m \u001b[38;5;124m    <style onload=\u001b[39m\u001b[38;5;124m\"\u001b[39m\u001b[38;5;124mattach_snp(this.closest(\u001b[39m\u001b[38;5;124m'\u001b[39m\u001b[38;5;124m.snp_outer\u001b[39m\u001b[38;5;124m'\u001b[39m\u001b[38;5;124m), \u001b[39m\u001b[38;5;132;01m{\u001b[39;00m\u001b[38;5;28mself\u001b[39m\u001b[38;5;241m.\u001b[39mcell_lineno\u001b[38;5;132;01m}\u001b[39;00m\u001b[38;5;124m, \u001b[39m\u001b[38;5;132;01m{\u001b[39;00m\u001b[38;5;28mself\u001b[39m\u001b[38;5;241m.\u001b[39mprovenance_is_off_by_n_lines\u001b[38;5;132;01m}\u001b[39;00m\u001b[38;5;124m, \u001b[39m\u001b[38;5;132;01m{\u001b[39;00mescape_html(json\u001b[38;5;241m.\u001b[39mdumps(\u001b[38;5;28mself\u001b[39m\u001b[38;5;241m.\u001b[39muser_call_info))\u001b[38;5;132;01m}\u001b[39;00m\u001b[38;5;124m)\u001b[39m\u001b[38;5;124m\"\u001b[39m\u001b[38;5;124m></style> <!-- Just a way to run this code once the elements exist. -->\u001b[39m\n\u001b[1;32m    608\u001b[0m \u001b[38;5;124m    </div>\u001b[39m\n\u001b[1;32m    609\u001b[0m \u001b[38;5;124m\u001b[39m\u001b[38;5;124m\"\"\"\u001b[39m\n",
      "File \u001b[0;32m~/Documents/ucsd/bimodal_plotting/sketch-n-plot/snp.py:561\u001b[0m, in \u001b[0;36mSNP._repr_svg_\u001b[0;34m(self)\u001b[0m\n\u001b[1;32m    558\u001b[0m height_px   \u001b[38;5;241m=\u001b[39m bbox_inches\u001b[38;5;241m.\u001b[39mheight \u001b[38;5;241m*\u001b[39m fig\u001b[38;5;241m.\u001b[39mget_dpi()\n\u001b[1;32m    560\u001b[0m \u001b[38;5;66;03m# fig_regions = flatten_regions(regions(fig))\u001b[39;00m\n\u001b[0;32m--> 561\u001b[0m fig_regions2 \u001b[38;5;241m=\u001b[39m \u001b[43mregions2\u001b[49m\u001b[43m(\u001b[49m\u001b[38;5;28;43mself\u001b[39;49m\u001b[38;5;241;43m.\u001b[39;49m\u001b[43mfigure\u001b[49m\u001b[43m)\u001b[49m\n\u001b[1;32m    563\u001b[0m svg_body \u001b[38;5;241m=\u001b[39m region2_to_svg_g(fig_regions2, \u001b[38;5;28mself\u001b[39m\u001b[38;5;241m.\u001b[39mobject_names, \u001b[38;5;28mself\u001b[39m\u001b[38;5;241m.\u001b[39mtype_graph)\n\u001b[1;32m    565\u001b[0m \u001b[38;5;66;03m# for artist, shape in fig_regions:\u001b[39;00m\n\u001b[1;32m    566\u001b[0m \u001b[38;5;66;03m#   shape_svg = shape.svg()\u001b[39;00m\n\u001b[1;32m    567\u001b[0m \u001b[38;5;66;03m#   # shape_svg = re.sub(r'fill=\"[^\"]*\"', 'fill=\"transparent\"', shape_svg)\u001b[39;00m\n\u001b[1;32m    568\u001b[0m \u001b[38;5;66;03m#   shape_svg = re.sub(r'stroke-width=\"[^\"]*\"', 'stroke-width=\"1.0\"', shape_svg)\u001b[39;00m\n\u001b[1;32m    569\u001b[0m \u001b[38;5;66;03m#   shape_svg = re.sub(r'\\A(<\\w+)', f'\\\\1 data-object=\"{str(artist)}\"', shape_svg)\u001b[39;00m\n\u001b[1;32m    570\u001b[0m \u001b[38;5;66;03m#   svg_body += shape_svg\u001b[39;00m\n",
      "File \u001b[0;32m~/Documents/ucsd/bimodal_plotting/sketch-n-plot/snp.py:178\u001b[0m, in \u001b[0;36mregions2\u001b[0;34m(artist)\u001b[0m\n\u001b[1;32m    171\u001b[0m     children \u001b[38;5;241m=\u001b[39m []\n\u001b[1;32m    173\u001b[0m \u001b[38;5;28;01mmatch\u001b[39;00m artist:\n\u001b[1;32m    174\u001b[0m     \u001b[38;5;28;01mcase\u001b[39;00m mpl\u001b[38;5;241m.\u001b[39maxis\u001b[38;5;241m.\u001b[39mTick():\n\u001b[1;32m    175\u001b[0m         \u001b[38;5;66;03m# Remove invisible tick text (i.e. the rarely used label2, which is mispositioned when not actively used.)\u001b[39;00m\n\u001b[1;32m    176\u001b[0m         children \u001b[38;5;241m=\u001b[39m [child \u001b[38;5;28;01mfor\u001b[39;00m child \u001b[38;5;129;01min\u001b[39;00m children \u001b[38;5;28;01mif\u001b[39;00m child\u001b[38;5;241m.\u001b[39mget_visible()]\n\u001b[0;32m--> 178\u001b[0m child_regions      \u001b[38;5;241m=\u001b[39m remove_nones([regions2(child) \u001b[38;5;28;01mfor\u001b[39;00m child \u001b[38;5;129;01min\u001b[39;00m children])\n\u001b[1;32m    179\u001b[0m child_regions_flat \u001b[38;5;241m=\u001b[39m flatten([flatten_regions2(child_region) \u001b[38;5;28;01mfor\u001b[39;00m child_region \u001b[38;5;129;01min\u001b[39;00m child_regions])\n\u001b[1;32m    180\u001b[0m child_geoms        \u001b[38;5;241m=\u001b[39m [geom \u001b[38;5;28;01mfor\u001b[39;00m _, geom \u001b[38;5;129;01min\u001b[39;00m child_regions_flat]\n",
      "File \u001b[0;32m~/Documents/ucsd/bimodal_plotting/sketch-n-plot/snp.py:178\u001b[0m, in \u001b[0;36m<listcomp>\u001b[0;34m(.0)\u001b[0m\n\u001b[1;32m    171\u001b[0m     children \u001b[38;5;241m=\u001b[39m []\n\u001b[1;32m    173\u001b[0m \u001b[38;5;28;01mmatch\u001b[39;00m artist:\n\u001b[1;32m    174\u001b[0m     \u001b[38;5;28;01mcase\u001b[39;00m mpl\u001b[38;5;241m.\u001b[39maxis\u001b[38;5;241m.\u001b[39mTick():\n\u001b[1;32m    175\u001b[0m         \u001b[38;5;66;03m# Remove invisible tick text (i.e. the rarely used label2, which is mispositioned when not actively used.)\u001b[39;00m\n\u001b[1;32m    176\u001b[0m         children \u001b[38;5;241m=\u001b[39m [child \u001b[38;5;28;01mfor\u001b[39;00m child \u001b[38;5;129;01min\u001b[39;00m children \u001b[38;5;28;01mif\u001b[39;00m child\u001b[38;5;241m.\u001b[39mget_visible()]\n\u001b[0;32m--> 178\u001b[0m child_regions      \u001b[38;5;241m=\u001b[39m remove_nones([\u001b[43mregions2\u001b[49m\u001b[43m(\u001b[49m\u001b[43mchild\u001b[49m\u001b[43m)\u001b[49m \u001b[38;5;28;01mfor\u001b[39;00m child \u001b[38;5;129;01min\u001b[39;00m children])\n\u001b[1;32m    179\u001b[0m child_regions_flat \u001b[38;5;241m=\u001b[39m flatten([flatten_regions2(child_region) \u001b[38;5;28;01mfor\u001b[39;00m child_region \u001b[38;5;129;01min\u001b[39;00m child_regions])\n\u001b[1;32m    180\u001b[0m child_geoms        \u001b[38;5;241m=\u001b[39m [geom \u001b[38;5;28;01mfor\u001b[39;00m _, geom \u001b[38;5;129;01min\u001b[39;00m child_regions_flat]\n",
      "File \u001b[0;32m~/Documents/ucsd/bimodal_plotting/sketch-n-plot/snp.py:178\u001b[0m, in \u001b[0;36mregions2\u001b[0;34m(artist)\u001b[0m\n\u001b[1;32m    171\u001b[0m     children \u001b[38;5;241m=\u001b[39m []\n\u001b[1;32m    173\u001b[0m \u001b[38;5;28;01mmatch\u001b[39;00m artist:\n\u001b[1;32m    174\u001b[0m     \u001b[38;5;28;01mcase\u001b[39;00m mpl\u001b[38;5;241m.\u001b[39maxis\u001b[38;5;241m.\u001b[39mTick():\n\u001b[1;32m    175\u001b[0m         \u001b[38;5;66;03m# Remove invisible tick text (i.e. the rarely used label2, which is mispositioned when not actively used.)\u001b[39;00m\n\u001b[1;32m    176\u001b[0m         children \u001b[38;5;241m=\u001b[39m [child \u001b[38;5;28;01mfor\u001b[39;00m child \u001b[38;5;129;01min\u001b[39;00m children \u001b[38;5;28;01mif\u001b[39;00m child\u001b[38;5;241m.\u001b[39mget_visible()]\n\u001b[0;32m--> 178\u001b[0m child_regions      \u001b[38;5;241m=\u001b[39m remove_nones([regions2(child) \u001b[38;5;28;01mfor\u001b[39;00m child \u001b[38;5;129;01min\u001b[39;00m children])\n\u001b[1;32m    179\u001b[0m child_regions_flat \u001b[38;5;241m=\u001b[39m flatten([flatten_regions2(child_region) \u001b[38;5;28;01mfor\u001b[39;00m child_region \u001b[38;5;129;01min\u001b[39;00m child_regions])\n\u001b[1;32m    180\u001b[0m child_geoms        \u001b[38;5;241m=\u001b[39m [geom \u001b[38;5;28;01mfor\u001b[39;00m _, geom \u001b[38;5;129;01min\u001b[39;00m child_regions_flat]\n",
      "File \u001b[0;32m~/Documents/ucsd/bimodal_plotting/sketch-n-plot/snp.py:178\u001b[0m, in \u001b[0;36m<listcomp>\u001b[0;34m(.0)\u001b[0m\n\u001b[1;32m    171\u001b[0m     children \u001b[38;5;241m=\u001b[39m []\n\u001b[1;32m    173\u001b[0m \u001b[38;5;28;01mmatch\u001b[39;00m artist:\n\u001b[1;32m    174\u001b[0m     \u001b[38;5;28;01mcase\u001b[39;00m mpl\u001b[38;5;241m.\u001b[39maxis\u001b[38;5;241m.\u001b[39mTick():\n\u001b[1;32m    175\u001b[0m         \u001b[38;5;66;03m# Remove invisible tick text (i.e. the rarely used label2, which is mispositioned when not actively used.)\u001b[39;00m\n\u001b[1;32m    176\u001b[0m         children \u001b[38;5;241m=\u001b[39m [child \u001b[38;5;28;01mfor\u001b[39;00m child \u001b[38;5;129;01min\u001b[39;00m children \u001b[38;5;28;01mif\u001b[39;00m child\u001b[38;5;241m.\u001b[39mget_visible()]\n\u001b[0;32m--> 178\u001b[0m child_regions      \u001b[38;5;241m=\u001b[39m remove_nones([\u001b[43mregions2\u001b[49m\u001b[43m(\u001b[49m\u001b[43mchild\u001b[49m\u001b[43m)\u001b[49m \u001b[38;5;28;01mfor\u001b[39;00m child \u001b[38;5;129;01min\u001b[39;00m children])\n\u001b[1;32m    179\u001b[0m child_regions_flat \u001b[38;5;241m=\u001b[39m flatten([flatten_regions2(child_region) \u001b[38;5;28;01mfor\u001b[39;00m child_region \u001b[38;5;129;01min\u001b[39;00m child_regions])\n\u001b[1;32m    180\u001b[0m child_geoms        \u001b[38;5;241m=\u001b[39m [geom \u001b[38;5;28;01mfor\u001b[39;00m _, geom \u001b[38;5;129;01min\u001b[39;00m child_regions_flat]\n",
      "File \u001b[0;32m~/Documents/ucsd/bimodal_plotting/sketch-n-plot/snp.py:241\u001b[0m, in \u001b[0;36mregions2\u001b[0;34m(artist)\u001b[0m\n\u001b[1;32m    238\u001b[0m         \u001b[38;5;28;01mfor\u001b[39;00m child_region \u001b[38;5;129;01min\u001b[39;00m child_regions:\n\u001b[1;32m    239\u001b[0m             put_method_on_child(method, target, child_region, max_search_depth \u001b[38;5;241m-\u001b[39m \u001b[38;5;241m1\u001b[39m)\n\u001b[0;32m--> 241\u001b[0m \u001b[38;5;28;01mfor\u001b[39;00m code_to_access_target, my_method_name, max_calls \u001b[38;5;129;01min\u001b[39;00m method_associations(artist):\n\u001b[1;32m    242\u001b[0m     target \u001b[38;5;241m=\u001b[39m \u001b[38;5;28meval\u001b[39m(\u001b[38;5;124m\"\u001b[39m\u001b[38;5;124martist\u001b[39m\u001b[38;5;124m\"\u001b[39m \u001b[38;5;241m+\u001b[39m code_to_access_target)\n\u001b[1;32m    243\u001b[0m     max_search_depth \u001b[38;5;241m=\u001b[39m \u001b[38;5;28mlen\u001b[39m(code_to_access_target\u001b[38;5;241m.\u001b[39msplit(\u001b[38;5;124m\"\u001b[39m\u001b[38;5;124m.\u001b[39m\u001b[38;5;124m\"\u001b[39m)) \u001b[38;5;241m+\u001b[39m \u001b[38;5;241m1\u001b[39m\n",
      "\u001b[0;31mValueError\u001b[0m: not enough values to unpack (expected 3, got 2)"
     ]
    },
    {
     "ename": "ValueError",
     "evalue": "not enough values to unpack (expected 3, got 2)",
     "output_type": "error",
     "traceback": [
      "\u001b[0;31m---------------------------------------------------------------------------\u001b[0m",
      "\u001b[0;31mValueError\u001b[0m                                Traceback (most recent call last)",
      "File \u001b[0;32m/Library/Frameworks/Python.framework/Versions/3.10/lib/python3.10/site-packages/IPython/core/formatters.py:343\u001b[0m, in \u001b[0;36mBaseFormatter.__call__\u001b[0;34m(self, obj)\u001b[0m\n\u001b[1;32m    341\u001b[0m     method \u001b[38;5;241m=\u001b[39m get_real_method(obj, \u001b[38;5;28mself\u001b[39m\u001b[38;5;241m.\u001b[39mprint_method)\n\u001b[1;32m    342\u001b[0m     \u001b[38;5;28;01mif\u001b[39;00m method \u001b[38;5;129;01mis\u001b[39;00m \u001b[38;5;129;01mnot\u001b[39;00m \u001b[38;5;28;01mNone\u001b[39;00m:\n\u001b[0;32m--> 343\u001b[0m         \u001b[38;5;28;01mreturn\u001b[39;00m \u001b[43mmethod\u001b[49m\u001b[43m(\u001b[49m\u001b[43m)\u001b[49m\n\u001b[1;32m    344\u001b[0m     \u001b[38;5;28;01mreturn\u001b[39;00m \u001b[38;5;28;01mNone\u001b[39;00m\n\u001b[1;32m    345\u001b[0m \u001b[38;5;28;01melse\u001b[39;00m:\n",
      "File \u001b[0;32m~/Documents/ucsd/bimodal_plotting/sketch-n-plot/snp.py:561\u001b[0m, in \u001b[0;36mSNP._repr_svg_\u001b[0;34m(self)\u001b[0m\n\u001b[1;32m    558\u001b[0m height_px   \u001b[38;5;241m=\u001b[39m bbox_inches\u001b[38;5;241m.\u001b[39mheight \u001b[38;5;241m*\u001b[39m fig\u001b[38;5;241m.\u001b[39mget_dpi()\n\u001b[1;32m    560\u001b[0m \u001b[38;5;66;03m# fig_regions = flatten_regions(regions(fig))\u001b[39;00m\n\u001b[0;32m--> 561\u001b[0m fig_regions2 \u001b[38;5;241m=\u001b[39m \u001b[43mregions2\u001b[49m\u001b[43m(\u001b[49m\u001b[38;5;28;43mself\u001b[39;49m\u001b[38;5;241;43m.\u001b[39;49m\u001b[43mfigure\u001b[49m\u001b[43m)\u001b[49m\n\u001b[1;32m    563\u001b[0m svg_body \u001b[38;5;241m=\u001b[39m region2_to_svg_g(fig_regions2, \u001b[38;5;28mself\u001b[39m\u001b[38;5;241m.\u001b[39mobject_names, \u001b[38;5;28mself\u001b[39m\u001b[38;5;241m.\u001b[39mtype_graph)\n\u001b[1;32m    565\u001b[0m \u001b[38;5;66;03m# for artist, shape in fig_regions:\u001b[39;00m\n\u001b[1;32m    566\u001b[0m \u001b[38;5;66;03m#   shape_svg = shape.svg()\u001b[39;00m\n\u001b[1;32m    567\u001b[0m \u001b[38;5;66;03m#   # shape_svg = re.sub(r'fill=\"[^\"]*\"', 'fill=\"transparent\"', shape_svg)\u001b[39;00m\n\u001b[1;32m    568\u001b[0m \u001b[38;5;66;03m#   shape_svg = re.sub(r'stroke-width=\"[^\"]*\"', 'stroke-width=\"1.0\"', shape_svg)\u001b[39;00m\n\u001b[1;32m    569\u001b[0m \u001b[38;5;66;03m#   shape_svg = re.sub(r'\\A(<\\w+)', f'\\\\1 data-object=\"{str(artist)}\"', shape_svg)\u001b[39;00m\n\u001b[1;32m    570\u001b[0m \u001b[38;5;66;03m#   svg_body += shape_svg\u001b[39;00m\n",
      "File \u001b[0;32m~/Documents/ucsd/bimodal_plotting/sketch-n-plot/snp.py:178\u001b[0m, in \u001b[0;36mregions2\u001b[0;34m(artist)\u001b[0m\n\u001b[1;32m    171\u001b[0m     children \u001b[38;5;241m=\u001b[39m []\n\u001b[1;32m    173\u001b[0m \u001b[38;5;28;01mmatch\u001b[39;00m artist:\n\u001b[1;32m    174\u001b[0m     \u001b[38;5;28;01mcase\u001b[39;00m mpl\u001b[38;5;241m.\u001b[39maxis\u001b[38;5;241m.\u001b[39mTick():\n\u001b[1;32m    175\u001b[0m         \u001b[38;5;66;03m# Remove invisible tick text (i.e. the rarely used label2, which is mispositioned when not actively used.)\u001b[39;00m\n\u001b[1;32m    176\u001b[0m         children \u001b[38;5;241m=\u001b[39m [child \u001b[38;5;28;01mfor\u001b[39;00m child \u001b[38;5;129;01min\u001b[39;00m children \u001b[38;5;28;01mif\u001b[39;00m child\u001b[38;5;241m.\u001b[39mget_visible()]\n\u001b[0;32m--> 178\u001b[0m child_regions      \u001b[38;5;241m=\u001b[39m remove_nones([regions2(child) \u001b[38;5;28;01mfor\u001b[39;00m child \u001b[38;5;129;01min\u001b[39;00m children])\n\u001b[1;32m    179\u001b[0m child_regions_flat \u001b[38;5;241m=\u001b[39m flatten([flatten_regions2(child_region) \u001b[38;5;28;01mfor\u001b[39;00m child_region \u001b[38;5;129;01min\u001b[39;00m child_regions])\n\u001b[1;32m    180\u001b[0m child_geoms        \u001b[38;5;241m=\u001b[39m [geom \u001b[38;5;28;01mfor\u001b[39;00m _, geom \u001b[38;5;129;01min\u001b[39;00m child_regions_flat]\n",
      "File \u001b[0;32m~/Documents/ucsd/bimodal_plotting/sketch-n-plot/snp.py:178\u001b[0m, in \u001b[0;36m<listcomp>\u001b[0;34m(.0)\u001b[0m\n\u001b[1;32m    171\u001b[0m     children \u001b[38;5;241m=\u001b[39m []\n\u001b[1;32m    173\u001b[0m \u001b[38;5;28;01mmatch\u001b[39;00m artist:\n\u001b[1;32m    174\u001b[0m     \u001b[38;5;28;01mcase\u001b[39;00m mpl\u001b[38;5;241m.\u001b[39maxis\u001b[38;5;241m.\u001b[39mTick():\n\u001b[1;32m    175\u001b[0m         \u001b[38;5;66;03m# Remove invisible tick text (i.e. the rarely used label2, which is mispositioned when not actively used.)\u001b[39;00m\n\u001b[1;32m    176\u001b[0m         children \u001b[38;5;241m=\u001b[39m [child \u001b[38;5;28;01mfor\u001b[39;00m child \u001b[38;5;129;01min\u001b[39;00m children \u001b[38;5;28;01mif\u001b[39;00m child\u001b[38;5;241m.\u001b[39mget_visible()]\n\u001b[0;32m--> 178\u001b[0m child_regions      \u001b[38;5;241m=\u001b[39m remove_nones([\u001b[43mregions2\u001b[49m\u001b[43m(\u001b[49m\u001b[43mchild\u001b[49m\u001b[43m)\u001b[49m \u001b[38;5;28;01mfor\u001b[39;00m child \u001b[38;5;129;01min\u001b[39;00m children])\n\u001b[1;32m    179\u001b[0m child_regions_flat \u001b[38;5;241m=\u001b[39m flatten([flatten_regions2(child_region) \u001b[38;5;28;01mfor\u001b[39;00m child_region \u001b[38;5;129;01min\u001b[39;00m child_regions])\n\u001b[1;32m    180\u001b[0m child_geoms        \u001b[38;5;241m=\u001b[39m [geom \u001b[38;5;28;01mfor\u001b[39;00m _, geom \u001b[38;5;129;01min\u001b[39;00m child_regions_flat]\n",
      "File \u001b[0;32m~/Documents/ucsd/bimodal_plotting/sketch-n-plot/snp.py:178\u001b[0m, in \u001b[0;36mregions2\u001b[0;34m(artist)\u001b[0m\n\u001b[1;32m    171\u001b[0m     children \u001b[38;5;241m=\u001b[39m []\n\u001b[1;32m    173\u001b[0m \u001b[38;5;28;01mmatch\u001b[39;00m artist:\n\u001b[1;32m    174\u001b[0m     \u001b[38;5;28;01mcase\u001b[39;00m mpl\u001b[38;5;241m.\u001b[39maxis\u001b[38;5;241m.\u001b[39mTick():\n\u001b[1;32m    175\u001b[0m         \u001b[38;5;66;03m# Remove invisible tick text (i.e. the rarely used label2, which is mispositioned when not actively used.)\u001b[39;00m\n\u001b[1;32m    176\u001b[0m         children \u001b[38;5;241m=\u001b[39m [child \u001b[38;5;28;01mfor\u001b[39;00m child \u001b[38;5;129;01min\u001b[39;00m children \u001b[38;5;28;01mif\u001b[39;00m child\u001b[38;5;241m.\u001b[39mget_visible()]\n\u001b[0;32m--> 178\u001b[0m child_regions      \u001b[38;5;241m=\u001b[39m remove_nones([regions2(child) \u001b[38;5;28;01mfor\u001b[39;00m child \u001b[38;5;129;01min\u001b[39;00m children])\n\u001b[1;32m    179\u001b[0m child_regions_flat \u001b[38;5;241m=\u001b[39m flatten([flatten_regions2(child_region) \u001b[38;5;28;01mfor\u001b[39;00m child_region \u001b[38;5;129;01min\u001b[39;00m child_regions])\n\u001b[1;32m    180\u001b[0m child_geoms        \u001b[38;5;241m=\u001b[39m [geom \u001b[38;5;28;01mfor\u001b[39;00m _, geom \u001b[38;5;129;01min\u001b[39;00m child_regions_flat]\n",
      "File \u001b[0;32m~/Documents/ucsd/bimodal_plotting/sketch-n-plot/snp.py:178\u001b[0m, in \u001b[0;36m<listcomp>\u001b[0;34m(.0)\u001b[0m\n\u001b[1;32m    171\u001b[0m     children \u001b[38;5;241m=\u001b[39m []\n\u001b[1;32m    173\u001b[0m \u001b[38;5;28;01mmatch\u001b[39;00m artist:\n\u001b[1;32m    174\u001b[0m     \u001b[38;5;28;01mcase\u001b[39;00m mpl\u001b[38;5;241m.\u001b[39maxis\u001b[38;5;241m.\u001b[39mTick():\n\u001b[1;32m    175\u001b[0m         \u001b[38;5;66;03m# Remove invisible tick text (i.e. the rarely used label2, which is mispositioned when not actively used.)\u001b[39;00m\n\u001b[1;32m    176\u001b[0m         children \u001b[38;5;241m=\u001b[39m [child \u001b[38;5;28;01mfor\u001b[39;00m child \u001b[38;5;129;01min\u001b[39;00m children \u001b[38;5;28;01mif\u001b[39;00m child\u001b[38;5;241m.\u001b[39mget_visible()]\n\u001b[0;32m--> 178\u001b[0m child_regions      \u001b[38;5;241m=\u001b[39m remove_nones([\u001b[43mregions2\u001b[49m\u001b[43m(\u001b[49m\u001b[43mchild\u001b[49m\u001b[43m)\u001b[49m \u001b[38;5;28;01mfor\u001b[39;00m child \u001b[38;5;129;01min\u001b[39;00m children])\n\u001b[1;32m    179\u001b[0m child_regions_flat \u001b[38;5;241m=\u001b[39m flatten([flatten_regions2(child_region) \u001b[38;5;28;01mfor\u001b[39;00m child_region \u001b[38;5;129;01min\u001b[39;00m child_regions])\n\u001b[1;32m    180\u001b[0m child_geoms        \u001b[38;5;241m=\u001b[39m [geom \u001b[38;5;28;01mfor\u001b[39;00m _, geom \u001b[38;5;129;01min\u001b[39;00m child_regions_flat]\n",
      "File \u001b[0;32m~/Documents/ucsd/bimodal_plotting/sketch-n-plot/snp.py:241\u001b[0m, in \u001b[0;36mregions2\u001b[0;34m(artist)\u001b[0m\n\u001b[1;32m    238\u001b[0m         \u001b[38;5;28;01mfor\u001b[39;00m child_region \u001b[38;5;129;01min\u001b[39;00m child_regions:\n\u001b[1;32m    239\u001b[0m             put_method_on_child(method, target, child_region, max_search_depth \u001b[38;5;241m-\u001b[39m \u001b[38;5;241m1\u001b[39m)\n\u001b[0;32m--> 241\u001b[0m \u001b[38;5;28;01mfor\u001b[39;00m code_to_access_target, my_method_name, max_calls \u001b[38;5;129;01min\u001b[39;00m method_associations(artist):\n\u001b[1;32m    242\u001b[0m     target \u001b[38;5;241m=\u001b[39m \u001b[38;5;28meval\u001b[39m(\u001b[38;5;124m\"\u001b[39m\u001b[38;5;124martist\u001b[39m\u001b[38;5;124m\"\u001b[39m \u001b[38;5;241m+\u001b[39m code_to_access_target)\n\u001b[1;32m    243\u001b[0m     max_search_depth \u001b[38;5;241m=\u001b[39m \u001b[38;5;28mlen\u001b[39m(code_to_access_target\u001b[38;5;241m.\u001b[39msplit(\u001b[38;5;124m\"\u001b[39m\u001b[38;5;124m.\u001b[39m\u001b[38;5;124m\"\u001b[39m)) \u001b[38;5;241m+\u001b[39m \u001b[38;5;241m1\u001b[39m\n",
      "\u001b[0;31mValueError\u001b[0m: not enough values to unpack (expected 3, got 2)"
     ]
    },
    {
     "data": {
      "application/json": {
       "cell_lineno": 47,
       "provenance_is_off_by_n_lines": 4,
       "user_call_info": [
        {
         "call": {
          "loc": {
           "column": 0,
           "end_column": 17,
           "end_line": 10,
           "line": 10
          }
         },
         "callee": {
          ".class": "CallableType",
          "arg_kinds": [],
          "arg_names": [],
          "arg_type_compatible_local_names": [],
          "arg_types": [],
          "bound_args": [],
          "def_extras": {
           "first_arg": null
          },
          "fallback": "builtins.function",
          "from_concatenate": false,
          "implicit": false,
          "is_ellipsis_args": false,
          "loc": {
           "column": 0,
           "end_column": 15,
           "end_line": 10,
           "line": 10
          },
          "name": "get_backend",
          "ret_type": "builtins.str",
          "type_guard": null,
          "unpack_kwargs": false,
          "variables": []
         },
         "given_args": []
        },
        {
         "call": {
          "loc": {
           "column": 0,
           "end_column": 10,
           "end_line": 48,
           "line": 48
          }
         },
         "callee": {
          ".class": "CallableType",
          "arg_kinds": [],
          "arg_names": [],
          "arg_type_compatible_local_names": [],
          "arg_types": [],
          "bound_args": [],
          "def_extras": {
           "first_arg": null
          },
          "fallback": "builtins.function",
          "from_concatenate": false,
          "implicit": false,
          "is_ellipsis_args": false,
          "loc": {
           "column": 0,
           "end_column": 8,
           "end_line": 48,
           "line": 48
          },
          "name": "ioff",
          "ret_type": "matplotlib.pyplot._IoffContext",
          "type_guard": null,
          "unpack_kwargs": false,
          "variables": []
         },
         "given_args": []
        },
        {
         "call": {
          "loc": {
           "column": 0,
           "end_column": 16,
           "end_line": 64,
           "line": 64
          }
         },
         "callee": {
          ".class": "CallableType",
          "arg_kinds": [
           0,
           0,
           1,
           1,
           1,
           5,
           4
          ],
          "arg_names": [
           "self",
           "label",
           "fontdict",
           "loc",
           "pad",
           "y",
           "kwargs"
          ],
          "arg_type_compatible_local_names": [
           [
            "ax"
           ],
           [],
           [],
           [],
           [],
           [],
           [
            "fig",
            "ax",
            "fruits",
            "counts"
           ]
          ],
          "arg_types": [
           "matplotlib.axes._axes.Axes",
           "builtins.str",
           {
            ".class": "Instance",
            "args": [
             {
              ".class": "AnyType",
              "missing_import_name": null,
              "source_any": null,
              "type_of_any": 4
             },
             {
              ".class": "AnyType",
              "missing_import_name": null,
              "source_any": null,
              "type_of_any": 4
             }
            ],
            "type_ref": "builtins.dict"
           },
           {
            ".class": "UnionType",
            "items": [
             {
              ".class": "LiteralType",
              "fallback": "builtins.str",
              "value": "center"
             },
             {
              ".class": "LiteralType",
              "fallback": "builtins.str",
              "value": "left"
             },
             {
              ".class": "LiteralType",
              "fallback": "builtins.str",
              "value": "right"
             }
            ]
           },
           {
            ".class": "UnionType",
            "items": [
             "builtins.float",
             {
              ".class": "LiteralType",
              "fallback": "builtins.int",
              "value": 0
             },
             {
              ".class": "LiteralType",
              "fallback": "builtins.int",
              "value": 50
             }
            ]
           },
           "builtins.float",
           {
            ".class": "AnyType",
            "missing_import_name": null,
            "source_any": null,
            "type_of_any": 1
           }
          ],
          "bound_args": [],
          "def_extras": {
           "first_arg": "self"
          },
          "definition_arguments_default_code": [
           null,
           null,
           null,
           null,
           "6",
           "1.0",
           null
          ],
          "fallback": "builtins.function",
          "from_concatenate": false,
          "implicit": false,
          "is_ellipsis_args": false,
          "loc": {
           "column": 0,
           "end_column": 12,
           "end_line": 64,
           "line": 64
          },
          "name": "set_title of Axes",
          "ret_type": "matplotlib.text.Text",
          "type_guard": null,
          "unpack_kwargs": false,
          "variables": []
         },
         "given_args": [
          {
           ".class": "Instance",
           "args": [],
           "kind": 0,
           "last_known_value": {
            ".class": "LiteralType",
            "fallback": "builtins.str",
            "value": ""
           },
           "loc": {
            "column": 13,
            "end_column": 15,
            "end_line": 64,
            "line": 64
           },
           "name": null,
           "type_ref": "builtins.str"
          }
         ]
        },
        {
         "call": {
          ".class": "NoneType",
          "loc": {
           "column": 0,
           "end_column": 17,
           "end_line": 65,
           "line": 65
          }
         },
         "callee": {
          ".class": "CallableType",
          "arg_kinds": [
           0,
           0,
           1,
           1,
           5,
           4
          ],
          "arg_names": [
           "self",
           "ylabel",
           "fontdict",
           "labelpad",
           "loc",
           "kwargs"
          ],
          "arg_type_compatible_local_names": [
           [
            "ax"
           ],
           [],
           [
            "fig",
            "ax",
            "fruits",
            "counts"
           ],
           [],
           [],
           [
            "fig",
            "ax",
            "fruits",
            "counts"
           ]
          ],
          "arg_types": [
           "matplotlib.axes._base._AxesBase",
           "builtins.str",
           {
            ".class": "AnyType",
            "missing_import_name": null,
            "source_any": null,
            "type_of_any": 1
           },
           "builtins.float",
           {
            ".class": "UnionType",
            "items": [
             {
              ".class": "LiteralType",
              "fallback": "builtins.str",
              "value": "bottom"
             },
             {
              ".class": "LiteralType",
              "fallback": "builtins.str",
              "value": "center"
             },
             {
              ".class": "LiteralType",
              "fallback": "builtins.str",
              "value": "top"
             }
            ]
           },
           {
            ".class": "AnyType",
            "missing_import_name": null,
            "source_any": null,
            "type_of_any": 1
           }
          ],
          "bound_args": [],
          "def_extras": {
           "first_arg": "self"
          },
          "definition_arguments_default_code": [
           null,
           null,
           null,
           null,
           null,
           null
          ],
          "fallback": "builtins.function",
          "from_concatenate": false,
          "implicit": false,
          "is_ellipsis_args": false,
          "loc": {
           "column": 0,
           "end_column": 13,
           "end_line": 65,
           "line": 65
          },
          "name": "set_ylabel of _AxesBase",
          "ret_type": {
           ".class": "NoneType"
          },
          "type_guard": null,
          "unpack_kwargs": false,
          "variables": []
         },
         "given_args": [
          {
           ".class": "Instance",
           "args": [],
           "kind": 0,
           "last_known_value": {
            ".class": "LiteralType",
            "fallback": "builtins.str",
            "value": ""
           },
           "loc": {
            "column": 14,
            "end_column": 16,
            "end_line": 65,
            "line": 65
           },
           "name": null,
           "type_ref": "builtins.str"
          }
         ]
        },
        {
         "call": {
          ".class": "Instance",
          "args": [
           "builtins.str",
           {
            ".class": "AnyType",
            "missing_import_name": null,
            "source_any": null,
            "type_of_any": 2
           }
          ],
          "loc": {
           "column": 9,
           "end_column": 17,
           "end_line": 67,
           "line": 67
          },
          "type_ref": "builtins.dict"
         },
         "callee": {
          ".class": "CallableType",
          "arg_kinds": [],
          "arg_names": [],
          "arg_type_compatible_local_names": [],
          "arg_types": [],
          "bound_args": [],
          "def_extras": {
           "first_arg": null
          },
          "fallback": "builtins.function",
          "from_concatenate": false,
          "implicit": false,
          "is_ellipsis_args": false,
          "loc": {
           "column": 9,
           "end_column": 15,
           "end_line": 67,
           "line": 67
          },
          "name": "locals",
          "ret_type": {
           ".class": "Instance",
           "args": [
            "builtins.str",
            {
             ".class": "AnyType",
             "missing_import_name": null,
             "source_any": null,
             "type_of_any": 2
            }
           ],
           "type_ref": "builtins.dict"
          },
          "type_guard": null,
          "unpack_kwargs": false,
          "variables": []
         },
         "given_args": []
        }
       ]
      },
      "image/png": "[encoded data removed]",
      "text/plain": [
       "<__main__.SNP at 0x137d6f670>"
      ]
     },
     "execution_count": 21,
     "metadata": {},
     "output_type": "execute_result"
    }
   ],
   "source": [
    "# mpl.use(\"module://matplotlib_inline.backend_inline\")\n",
    "plt.ioff()\n",
    "fig, ax = plt.subplots()\n",
    "\n",
    "fruits = ['apple', 'blueberry', 'cherry', 'orange']\n",
    "counts = [40, 100, 30, 55]\n",
    "# bar_labels = ['red', 'blue', '_red', 'orange']\n",
    "# bar_colors = ['tab:red', 'tab:blue', 'tab:red', 'tab:orange']\n",
    "# ax.bar(fruits, counts, label=bar_labels, color=bar_colors)\n",
    "\n",
    "# ax.set_ylabel('fruit supply')\n",
    "# ax.set_title('Fruit supply by kind and color')\n",
    "# ax.legend(title='Fruit color')\n",
    "# ax.set_title(\"My Plot\")\n",
    "# ax.bar(0.0, 1.0)\n",
    "# ax.bar(fruits, counts)\n",
    "\n",
    "ax.set_title(\"\")\n",
    "ax.set_ylabel(\"\")\n",
    "\n",
    "SNP(fig, locals(), cell_lineno, provenance_is_off_by_n_lines, notebook_code_through_cell, user_names=set(re.compile(r'\\b').split(cell_code)))"
   ]
  },
  {
   "cell_type": "code",
   "execution_count": 6,
   "metadata": {},
   "outputs": [
    {
     "name": "stdout",
     "output_type": "stream",
     "text": [
      "10\n"
     ]
    }
   ],
   "source": [
    "# IPython.get_ipython().kernel.shell.ast_transformers = []\n",
    "# ax.bar(fruits, counts)[0]\n",
    "# object_type_node(fig, mypy_result.graph)\n",
    "# ls = locals()\n",
    "# obj = counts\n",
    "# type_graph = mypy_result.graph\n",
    "# thing_type_node = type_graph[obj.__class__.__module__].tree\n",
    "# name_parts =obj.__class__.__qualname__.split(\".\")\n",
    "# last_part = name_parts[-1]\n",
    "# thing_type_node.names[last_part].type\n",
    "# mypy_result.graph[\"current_notebook\"].tree.names[\"counts\"].type\n",
    "import re; x = 10; print(x)"
   ]
  },
  {
   "cell_type": "code",
   "execution_count": 7,
   "metadata": {
    "scrolled": false
   },
   "outputs": [
    {
     "data": {
      "text/plain": [
       "builtins.list[builtins.int]"
      ]
     },
     "execution_count": 7,
     "metadata": {},
     "output_type": "execute_result"
    }
   ],
   "source": [
    "import mypy.subtypes\n",
    "\n",
    "counts_type = mypy_result.graph[\"current_notebook\"].tree.names[\"counts\"].type\n",
    "\n",
    "arraylike_type = mypy_result.graph[\"matplotlib.axes\"].tree.names[\"Axes\"].node.names[\"bar\"].node.type.arg_types[1].items[1]\n",
    "\n",
    "counts_type\n",
    "\n",
    "# ( mypy.subtypes.is_subtype(counts_type, counts_type)\n",
    "# , mypy.subtypes.is_subtype(counts_type, arraylike_type)\n",
    "# , mypy.subtypes.is_subtype(arraylike_type, counts_type)\n",
    "# )\n"
   ]
  },
  {
   "cell_type": "code",
   "execution_count": 16,
   "metadata": {},
   "outputs": [
    {
     "data": {
      "text/plain": [
       "inf"
      ]
     },
     "execution_count": 16,
     "metadata": {},
     "output_type": "execute_result"
    }
   ],
   "source": [
    "# ax.containers[0].get_children()\n",
    "float(\"inf\")"
   ]
  },
  {
   "cell_type": "code",
   "execution_count": null,
   "metadata": {},
   "outputs": [],
   "source": [
    "mypy_result.graph[\"current_notebook\"].tree.names['ax'].type.type.names\n",
    "mypy_result.graph[\"current_notebook\"].tree.names['ax'].type.type.names['xaxis'].type.type.names\n",
    "mypy_result.graph[\"current_notebook\"].tree.names['ax'].type.type.names['xaxis'].type.type.direct_base_classes()[0].names\n",
    "mypy_result.graph[\"current_notebook\"].tree.names['ax'].type.type.names['xaxis'].type.type.direct_base_classes()[0].direct_base_classes()[0].names\n",
    "\n",
    "mypy_result.graph[\"current_notebook\"].tree.names['fig'].type.type.names['axes'].type"
   ]
  },
  {
   "cell_type": "code",
   "execution_count": null,
   "metadata": {},
   "outputs": [],
   "source": [
    "ax.yaxis.__class__ # matplotlib.axis.YAxis\n",
    "mypy_result.graph[\"matplotlib.axis\"].tree.names[\"YAxis\"].node.names\n",
    "mypy_result.graph[\"matplotlib.axis\"].tree.names[\"YAxis\"].node.direct_base_classes()[0].names[\"set_label_text\"].type"
   ]
  },
  {
   "cell_type": "code",
   "execution_count": null,
   "metadata": {},
   "outputs": [],
   "source": [
    "class A:\n",
    "    class B:\n",
    "        pass\n",
    "\n",
    "mypy_result.graph[\"current_notebook\"].tree.names[\"A\"].node.names[\"B\"].node"
   ]
  },
  {
   "cell_type": "code",
   "execution_count": null,
   "metadata": {},
   "outputs": [],
   "source": [
    "ax.yaxis.__class__.__module__\n",
    "ax.yaxis.__class__.__qualname__\n",
    "ax.yaxis.__class__.__module__.split(\".\") + ax.yaxis.__class__.__qualname__.split(\".\")"
   ]
  },
  {
   "cell_type": "code",
   "execution_count": null,
   "metadata": {},
   "outputs": [],
   "source": [
    "this_cell_code = IPython.get_ipython().history_manager.input_hist_raw[-1]\n",
    "\n",
    "this_cell_tokens = set(re.compile(r'\\b').split(this_cell_code))\n",
    "\n",
    "stuff = locals()\n",
    "\n",
    "for token in list(stuff):\n",
    "    if token in this_cell_tokens:\n",
    "        print(token, stuff[token])\n"
   ]
  },
  {
   "cell_type": "code",
   "execution_count": null,
   "metadata": {},
   "outputs": [],
   "source": [
    "\n",
    "def object_names(locals):\n",
    "    out = {}\n",
    "    for name, value in [(name, value) for name, value in locals.items() if name not in trivial_names and not callable(value)]:\n",
    "        key = id(value)\n",
    "        out[key] = out.get(key, set()).union({name})\n",
    "    return out\n",
    "\n",
    "object_names(locals())\n"
   ]
  },
  {
   "cell_type": "code",
   "execution_count": null,
   "metadata": {},
   "outputs": [],
   "source": [
    "sources, options = mypy.main.process_options([file_path])\n",
    "\n",
    "# # options.incremental = True\n",
    "# options.incremental = False\n",
    "# # options.show_traceback = True\n",
    "# options.preserve_asts = True\n",
    "# options.strict_optional = True\n",
    "# options.warn_unused_configs = True\n",
    "# # options.fine_grained_incremental = True\n",
    "# # options.use_fine_grained_cache = True\n",
    "# options.mypy_path = [\"python-type-stubs-main\"]\n",
    "# options.follow_imports = \"silent\"\n",
    "# options.follow_imports_for_stubs = True\n",
    "# options.export_types = True\n",
    "\n",
    "options.incremental = True\n",
    "# options.incremental = False\n",
    "# options.show_traceback = True\n",
    "options.preserve_asts = True\n",
    "options.strict_optional = True\n",
    "options.warn_unused_configs = True\n",
    "options.fine_grained_incremental = True\n",
    "options.use_fine_grained_cache = True\n",
    "options.local_partial_types = True # https://github.com/python/mypy/issues/4492\n",
    "options.mypy_path = [\"python-type-stubs-main\"]\n",
    "options.follow_imports = \"silent\"\n",
    "options.follow_imports_for_stubs = True\n",
    "options.export_types = True\n",
    "\n",
    "# print(options)\n",
    "fscache = mypy.fscache.FileSystemCache() # IDK if this is needed\n",
    "mypy_result = mypy.build.build(sources, options=options, fscache=fscache)\n",
    "\n",
    "fine_grained_build_manager = mypy.server.update.FineGrainedBuildManager(mypy_result)\n",
    "\n",
    "fine_grained_build_manager.update([(module_name, file_path)], [])\n",
    "fine_grained_build_manager.flush_cache()\n",
    "fscache.flush()\n"
   ]
  },
  {
   "cell_type": "code",
   "execution_count": null,
   "metadata": {},
   "outputs": [],
   "source": [
    "{\"a\": \"b\" for k,v in [(1,2)]}"
   ]
  },
  {
   "cell_type": "code",
   "execution_count": null,
   "metadata": {},
   "outputs": [],
   "source": [
    "[arg.initializer for arg in mypy_result.graph[\"matplotlib.axis\"].tree.names[\"YAxis\"].node.direct_base_classes()[0].names[\"set_label_text\"].type.definition.arguments]\n",
    "\n",
    "mypy_result.graph[\"matplotlib.axis\"].tree.names[\"YAxis\"].node.direct_base_classes()[0].names[\"set_label_text\"].node.type.arg_kinds\n",
    "mypy_result.graph[\"matplotlib.axis\"].tree.names[\"YAxis\"].node.direct_base_classes()[0].names[\"set_label_text\"].type.def_extras"
   ]
  },
  {
   "cell_type": "code",
   "execution_count": null,
   "metadata": {},
   "outputs": [],
   "source": [
    "x = object()"
   ]
  },
  {
   "cell_type": "code",
   "execution_count": null,
   "metadata": {},
   "outputs": [],
   "source": [
    "x"
   ]
  },
  {
   "cell_type": "code",
   "execution_count": null,
   "metadata": {},
   "outputs": [],
   "source": [
    "id(x)"
   ]
  },
  {
   "cell_type": "code",
   "execution_count": null,
   "metadata": {},
   "outputs": [],
   "source": [
    "x = object()\n",
    "y = object()\n",
    "x == x"
   ]
  },
  {
   "cell_type": "code",
   "execution_count": null,
   "metadata": {},
   "outputs": [],
   "source": [
    "def method_associations(artist):\n",
    "    match artist:\n",
    "        case mpl.axes.Axes() as ax:\n",
    "            return [(ax.title, \"set_title\")]\n",
    "        case mpl.axis.Axis() as axis:\n",
    "            return [(axis.label, \"set_label_text\")]\n",
    "        case _:\n",
    "            return []\n",
    "\n",
    "\n",
    "\n",
    "method_associations(ax.xaxis)"
   ]
  }
 ],
 "metadata": {
  "kernelspec": {
   "display_name": "Python 3 (ipykernel)",
   "language": "python",
   "name": "python3"
  },
  "language_info": {
   "codemirror_mode": {
    "name": "ipython",
    "version": 3
   },
   "file_extension": ".py",
   "mimetype": "text/x-python",
   "name": "python",
   "nbconvert_exporter": "python",
   "pygments_lexer": "ipython3",
   "version": "3.10.7"
  },
  "vscode": {
   "interpreter": {
    "hash": "aee8b7b246df8f9039afb4144a1f6fd8d2ca17a180786b69acc140d282b71a49"
   }
  }
 },
 "nbformat": 4,
 "nbformat_minor": 2
}
