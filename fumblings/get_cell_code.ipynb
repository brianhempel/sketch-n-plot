{
 "cells": [
  {
   "cell_type": "code",
   "execution_count": 1,
   "metadata": {},
   "outputs": [
    {
     "name": "stdout",
     "output_type": "stream",
     "text": [
      "# in Python kernel\n",
      "\n",
      "import IPython\n",
      "\n",
      "this_cell_code = IPython.get_ipython().history_manager.input_hist_raw[-1]\n",
      "print(this_cell_code)\n"
     ]
    }
   ],
   "source": [
    "# in Python kernel\n",
    "\n",
    "import IPython\n",
    "\n",
    "this_cell_code = IPython.get_ipython().history_manager.input_hist_raw[-1]\n",
    "print(this_cell_code)"
   ]
  },
  {
   "cell_type": "code",
   "execution_count": 2,
   "metadata": {},
   "outputs": [
    {
     "data": {
      "application/javascript": "\n// This only works in regular, non-VS Code notebook\n\nconsole.log(Jupyter.notebook.get_cells())\n\nJupyter.notebook.get_cells().filter(cell => cell.cell_type === \"code\").forEach(cell => {\n  console.log(cell);\n  let code_mirror = cell.code_mirror;\n  let code = code_mirror.getValue()\n  console.log(code);\n})\n",
      "text/plain": [
       "<IPython.core.display.Javascript object>"
      ]
     },
     "metadata": {},
     "output_type": "display_data"
    }
   ],
   "source": [
    "%%javascript\n",
    "\n",
    "// This only works in regular, non-VS Code notebook\n",
    "\n",
    "console.log(Jupyter.notebook.get_cells())\n",
    "\n",
    "Jupyter.notebook.get_cells().filter(cell => cell.cell_type === \"code\").forEach(cell => {\n",
    "  console.log(cell);\n",
    "  let code_mirror = cell.code_mirror;\n",
    "  let code = code_mirror.getValue()\n",
    "  console.log(code);\n",
    "  # OR\n",
    "  console.log(cell.get_text());\n",
    "})"
   ]
  }
 ],
 "metadata": {
  "kernelspec": {
   "display_name": "Python 3 (ipykernel)",
   "language": "python",
   "name": "python3"
  },
  "language_info": {
   "codemirror_mode": {
    "name": "ipython",
    "version": 3
   },
   "file_extension": ".py",
   "mimetype": "text/x-python",
   "name": "python",
   "nbconvert_exporter": "python",
   "pygments_lexer": "ipython3",
   "version": "3.10.7"
  }
 },
 "nbformat": 4,
 "nbformat_minor": 2
}
