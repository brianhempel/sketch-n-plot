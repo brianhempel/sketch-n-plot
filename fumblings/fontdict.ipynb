{
 "cells": [
  {
   "cell_type": "code",
   "execution_count": 8,
   "id": "454944de",
   "metadata": {
    "scrolled": false
   },
   "outputs": [
    {
     "data": {
      "image/png": "[encoded data removed]",
      "text/plain": [
       "<Figure size 640x480 with 1 Axes>"
      ]
     },
     "metadata": {},
     "output_type": "display_data"
    }
   ],
   "source": [
    "import matplotlib as mpl\n",
    "import matplotlib.pyplot as plt\n",
    "\n",
    "fig, ax = plt.subplots()\n",
    "\n",
    "fontdict = {\n",
    "    \"fontsize\": 46,\n",
    "    \"fontweight\": \"bold\",\n",
    "    \"color\": \"red\",\n",
    "    \"backgroundcolor\": \"yellow\",\n",
    "    \"horizontalalignment\": \"center\",\n",
    "    \"verticalalignment\": \"bottom\",\n",
    "}\n",
    "\n",
    "ax.set_title(\"My Axes Title\", pad=70, fontdict=fontdict)\n",
    "\n",
    "plt.show(fig)"
   ]
  },
  {
   "cell_type": "code",
   "execution_count": 5,
   "id": "6fb9946b",
   "metadata": {
    "scrolled": true
   },
   "outputs": [
    {
     "name": "stdout",
     "output_type": "stream",
     "text": [
      "\n",
      "        Set a title for the Axes.\n",
      "\n",
      "        Set one of the three available Axes titles. The available titles\n",
      "        are positioned above the Axes in the center, flush with the left\n",
      "        edge, and flush with the right edge.\n",
      "\n",
      "        Parameters\n",
      "        ----------\n",
      "        label : str\n",
      "            Text to use for the title\n",
      "\n",
      "        fontdict : dict\n",
      "            A dictionary controlling the appearance of the title text,\n",
      "            the default *fontdict* is::\n",
      "\n",
      "               {'fontsize': rcParams['axes.titlesize'],\n",
      "                'fontweight': rcParams['axes.titleweight'],\n",
      "                'color': rcParams['axes.titlecolor'],\n",
      "                'verticalalignment': 'baseline',\n",
      "                'horizontalalignment': loc}\n",
      "\n",
      "        loc : {'center', 'left', 'right'}, default: :rc:`axes.titlelocation`\n",
      "            Which title to set.\n",
      "\n",
      "        y : float, default: :rc:`axes.titley`\n",
      "            Vertical Axes location for the title (1.0 is the top).  If\n",
      "            None (the default) and :rc:`axes.titley` is also None, y is\n",
      "            determined automatically to avoid decorators on the Axes.\n",
      "\n",
      "        pad : float, default: :rc:`axes.titlepad`\n",
      "            The offset of the title from the top of the Axes, in points.\n",
      "\n",
      "        Returns\n",
      "        -------\n",
      "        `.Text`\n",
      "            The matplotlib text instance representing the title\n",
      "\n",
      "        Other Parameters\n",
      "        ----------------\n",
      "        **kwargs : `.Text` properties\n",
      "            Other keyword arguments are text properties, see `.Text` for a list\n",
      "            of valid text properties.\n",
      "        \n"
     ]
    },
    {
     "data": {
      "image/png": "[encoded data removed]",
      "text/plain": [
       "<Figure size 640x480 with 1 Axes>"
      ]
     },
     "metadata": {},
     "output_type": "display_data"
    }
   ],
   "source": [
    "fig, ax = plt.subplots()\n",
    "\n",
    "print(ax.set_title.__doc__)\n",
    "\n"
   ]
  },
  {
   "cell_type": "code",
   "execution_count": 2,
   "id": "0d94693e",
   "metadata": {
    "scrolled": false
   },
   "outputs": [
    {
     "name": "stdout",
     "output_type": "stream",
     "text": [
      "Create a `.Text` instance at *x*, *y* with string *text*.\n",
      "\n",
      "Valid keyword arguments are:\n",
      "\n",
      "Properties:\n",
      "    agg_filter: a filter function, which takes a (m, n, 3) float array and a dpi value, and returns a (m, n, 3) array and two offsets from the bottom left corner of the image\n",
      "    alpha: scalar or None\n",
      "    animated: bool\n",
      "    backgroundcolor: color\n",
      "    bbox: dict with properties for `.patches.FancyBboxPatch`\n",
      "    clip_box: unknown\n",
      "    clip_on: unknown\n",
      "    clip_path: unknown\n",
      "    color or c: color\n",
      "    figure: `.Figure`\n",
      "    fontfamily or family: {FONTNAME, 'serif', 'sans-serif', 'cursive', 'fantasy', 'monospace'}\n",
      "    fontproperties or font or font_properties: `.font_manager.FontProperties` or `str` or `pathlib.Path`\n",
      "    fontsize or size: float or {'xx-small', 'x-small', 'small', 'medium', 'large', 'x-large', 'xx-large'}\n",
      "    fontstretch or stretch: {a numeric value in range 0-1000, 'ultra-condensed', 'extra-condensed', 'condensed', 'semi-condensed', 'normal', 'semi-expanded', 'expanded', 'extra-expanded', 'ultra-expanded'}\n",
      "    fontstyle or style: {'normal', 'italic', 'oblique'}\n",
      "    fontvariant or variant: {'normal', 'small-caps'}\n",
      "    fontweight or weight: {a numeric value in range 0-1000, 'ultralight', 'light', 'normal', 'regular', 'book', 'medium', 'roman', 'semibold', 'demibold', 'demi', 'bold', 'heavy', 'extra bold', 'black'}\n",
      "    gid: str\n",
      "    horizontalalignment or ha: {'center', 'right', 'left'}\n",
      "    in_layout: bool\n",
      "    label: object\n",
      "    linespacing: float (multiple of font size)\n",
      "    math_fontfamily: str\n",
      "    multialignment or ma: {'left', 'right', 'center'}\n",
      "    parse_math: bool\n",
      "    path_effects: `.AbstractPathEffect`\n",
      "    picker: None or bool or float or callable\n",
      "    position: (float, float)\n",
      "    rasterized: bool\n",
      "    rotation: float or {'vertical', 'horizontal'}\n",
      "    rotation_mode: {None, 'default', 'anchor'}\n",
      "    sketch_params: (scale: float, length: float, randomness: float)\n",
      "    snap: bool or None\n",
      "    text: object\n",
      "    transform: `.Transform`\n",
      "    transform_rotates_text: bool\n",
      "    url: str\n",
      "    usetex: bool or None\n",
      "    verticalalignment or va: {'center', 'top', 'bottom', 'baseline', 'center_baseline'}\n",
      "    visible: bool\n",
      "    wrap: bool\n",
      "    x: float\n",
      "    y: float\n",
      "    zorder: float\n"
     ]
    }
   ],
   "source": [
    "print(mpl.figure.Text.__init__.__doc__)"
   ]
  }
 ],
 "metadata": {
  "kernelspec": {
   "display_name": "Python 3 (ipykernel)",
   "language": "python",
   "name": "python3"
  },
  "language_info": {
   "codemirror_mode": {
    "name": "ipython",
    "version": 3
   },
   "file_extension": ".py",
   "mimetype": "text/x-python",
   "name": "python",
   "nbconvert_exporter": "python",
   "pygments_lexer": "ipython3",
   "version": "3.10.7"
  }
 },
 "nbformat": 4,
 "nbformat_minor": 5
}
