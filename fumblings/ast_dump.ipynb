{
 "cells": [
  {
   "cell_type": "code",
   "execution_count": null,
   "metadata": {},
   "outputs": [],
   "source": [
    "import ast\n",
    "import astor\n",
    "\n",
    "# list(map(lambda node: ast.dump(node), ast.walk(ast.parse(\"fig.axes[0].xaxis.label\"))))\n",
    "\n",
    "print(astor.dump_tree(ast.parse(\"ax.set_title()\")))\n",
    "\n",
    "astor.to_source(ast.parse(\"fig.axes[-1].xaxis.label\"))"
   ]
  }
 ],
 "metadata": {
  "language_info": {
   "name": "python"
  },
  "orig_nbformat": 4
 },
 "nbformat": 4,
 "nbformat_minor": 2
}
