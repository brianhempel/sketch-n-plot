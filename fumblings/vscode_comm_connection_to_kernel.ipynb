{
 "cells": [
  {
   "cell_type": "code",
   "execution_count": 2,
   "metadata": {},
   "outputs": [
    {
     "data": {
      "application/javascript": "console.log(_mgr)\n",
      "text/plain": [
       "<IPython.core.display.Javascript object>"
      ]
     },
     "metadata": {},
     "output_type": "display_data"
    }
   ],
   "source": [
    "%%javascript\n",
    "\n",
    "// need to open the js console with cmd-shift-p to see the console.log results\n",
    "\n",
    "console.log(_mgr)"
   ]
  },
  {
   "cell_type": "code",
   "execution_count": 4,
   "metadata": {},
   "outputs": [
    {
     "data": {
      "application/javascript": "\n// i think this is for VS Code\n\nfunction makeCommTarget(comm, msg) {\n  console.log(msg.content.data)\n  comm.onMsg = (msg) => console.log(msg.content.data)\n  comm.onClose = (msg) => console.log(msg.content.data)\n  // comm.send({'foo': 0});\n}\n\n_mgr.widgetManager.manager.kernel.removeCommTarget('my_comm_target', makeCommTarget)\n_mgr.widgetManager.manager.kernel.registerCommTarget('my_comm_target', makeCommTarget)\n",
      "text/plain": [
       "<IPython.core.display.Javascript object>"
      ]
     },
     "metadata": {},
     "output_type": "display_data"
    }
   ],
   "source": [
    "%%javascript\n",
    "\n",
    "function makeCommTarget(comm, msg) {\n",
    "  console.log(msg.content.data)\n",
    "  comm.onMsg = (msg) => console.log(msg.content.data)\n",
    "  comm.onClose = (msg) => console.log(msg.content.data)\n",
    "  // comm.send({'foo': 0});\n",
    "}\n",
    "\n",
    "_mgr.widgetManager.manager.kernel.removeCommTarget('my_comm_target', makeCommTarget)\n",
    "_mgr.widgetManager.manager.kernel.registerCommTarget('my_comm_target', makeCommTarget)"
   ]
  },
  {
   "cell_type": "code",
   "execution_count": 5,
   "metadata": {},
   "outputs": [],
   "source": [
    "# and now, in the Python kernel...\n",
    "\n",
    "from ipykernel.comm import Comm\n",
    "\n",
    "my_comm = Comm(target_name='my_comm_target', data={'foo': 1}) # there is a JS exception here, but it seems not to matter"
   ]
  },
  {
   "cell_type": "code",
   "execution_count": 6,
   "metadata": {},
   "outputs": [],
   "source": [
    "my_comm.send({'foo': 2})"
   ]
  }
 ],
 "metadata": {
  "kernelspec": {
   "display_name": "Python 3",
   "language": "python",
   "name": "python3"
  },
  "language_info": {
   "codemirror_mode": {
    "name": "ipython",
    "version": 3
   },
   "file_extension": ".py",
   "mimetype": "text/x-python",
   "name": "python",
   "nbconvert_exporter": "python",
   "pygments_lexer": "ipython3",
   "version": "3.10.7"
  },
  "orig_nbformat": 4
 },
 "nbformat": 4,
 "nbformat_minor": 2
}
